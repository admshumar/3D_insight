{
 "cells": [
  {
   "cell_type": "code",
   "execution_count": 41,
   "metadata": {},
   "outputs": [],
   "source": [
    "import os\n",
    "import numpy as np\n",
    "import scipy.io\n",
    "import tensorflow as tf\n",
    "import tools\n",
    "import matplotlib.pyplot as plt\n",
    "from mpl_toolkits.mplot3d import Axes3D"
   ]
  },
  {
   "cell_type": "code",
   "execution_count": 42,
   "metadata": {},
   "outputs": [],
   "source": [
    "def load_single_voxel_grid(path, out_vox_res=256):\n",
    "        with np.load(path) as da:\n",
    "            voxel_grid = da['arr_0']\n",
    "        if len(voxel_grid)<=0:\n",
    "            print (\" load_single_voxel_grid error: \", path)\n",
    "            exit()\n",
    "\n",
    "        #Data.plotFromVoxels(voxel_grid)\n",
    "        voxel_grid = voxel_grid_padding(voxel_grid)\n",
    "\n",
    "        ## downsample\n",
    "        if out_vox_res < 256:\n",
    "            voxel_grid = Data.vox_down_single(voxel_grid, to_res=out_vox_res)\n",
    "        return voxel_grid\n",
    "    \n",
    "def voxel_grid_padding(a):\n",
    "    x_d = a.shape[0]\n",
    "    y_d = a.shape[1]\n",
    "    z_d = a.shape[2]\n",
    "    channel = a.shape[3]\n",
    "    ori_vox_res = 256\n",
    "    size = [ori_vox_res, ori_vox_res, ori_vox_res,channel]\n",
    "    b = np.zeros(size,dtype=np.float32)\n",
    "\n",
    "    bx_s = 0;bx_e = size[0];by_s = 0;by_e = size[1];bz_s = 0; bz_e = size[2]\n",
    "    ax_s = 0;ax_e = x_d;ay_s = 0;ay_e = y_d;az_s = 0;az_e = z_d\n",
    "    if x_d > size[0]:\n",
    "        ax_s = int((x_d - size[0]) / 2)\n",
    "        ax_e = int((x_d - size[0]) / 2) + size[0]\n",
    "    else:\n",
    "        bx_s = int((size[0] - x_d) / 2)\n",
    "        bx_e = int((size[0] - x_d) / 2) + x_d\n",
    "\n",
    "    if y_d > size[1]:\n",
    "        ay_s = int((y_d - size[1]) / 2)\n",
    "        ay_e = int((y_d - size[1]) / 2) + size[1]\n",
    "    else:\n",
    "        by_s = int((size[1] - y_d) / 2)\n",
    "        by_e = int((size[1] - y_d) / 2) + y_d\n",
    "\n",
    "    if z_d > size[2]:\n",
    "        az_s = int((z_d - size[2]) / 2)\n",
    "        az_e = int((z_d - size[2]) / 2) + size[2]\n",
    "    else:\n",
    "        bz_s = int((size[2] - z_d) / 2)\n",
    "        bz_e = int((size[2] - z_d) / 2) + z_d\n",
    "    b[bx_s:bx_e, by_s:by_e, bz_s:bz_e,:] = a[ax_s:ax_e, ay_s:ay_e, az_s:az_e, :]\n",
    "\n",
    "    #Data.plotFromVoxels(b)\n",
    "    return b"
   ]
  },
  {
   "cell_type": "code",
   "execution_count": 43,
   "metadata": {},
   "outputs": [],
   "source": [
    "def voxel2mesh(voxels, surface_view):\n",
    "    cube_verts = [[0, 0, 0], [0, 0, 1], [0, 1, 0], [0, 1, 1], [1, 0, 0], [1, 0, 1], [1, 1, 0],\n",
    "                  [1, 1, 1]]  # 8 points\n",
    "\n",
    "    cube_faces = [[0, 1, 2], [1, 3, 2], [2, 3, 6], [3, 7, 6], [0, 2, 6], [0, 6, 4], [0, 5, 1],\n",
    "                  [0, 4, 5], [6, 7, 5], [6, 5, 4], [1, 7, 3], [1, 5, 7]]  # 12 face\n",
    "\n",
    "    cube_verts = np.array(cube_verts)\n",
    "    cube_faces = np.array(cube_faces) + 1\n",
    "\n",
    "    scale = 0.01\n",
    "    cube_dist_scale = 1.1\n",
    "    verts = []\n",
    "    faces = []\n",
    "    curr_vert = 0\n",
    "\n",
    "    positions = np.where(voxels > 0.3)\n",
    "    voxels[positions] = 1\n",
    "    for i, j, k in zip(*positions):\n",
    "        # identifies if current voxel has an exposed face\n",
    "        if not surface_view or np.sum(voxels[i-1:i+2, j-1:j+2, k-1:k+2]) < 27:\n",
    "            verts.extend(scale * (cube_verts + cube_dist_scale * np.array([[i, j, k]])))\n",
    "            faces.extend(cube_faces + curr_vert)\n",
    "            curr_vert += len(cube_verts)\n",
    "\n",
    "    return np.array(verts), np.array(faces)\n",
    "\n",
    "\n",
    "def write_obj(filename, verts, faces):\n",
    "    \"\"\" write the verts and faces on file.\"\"\"\n",
    "    with open(filename, 'w') as f:\n",
    "        # write vertices\n",
    "        f.write('g\\n# %d vertex\\n' % len(verts))\n",
    "        for vert in verts:\n",
    "            f.write('v %f %f %f\\n' % tuple(vert))\n",
    "\n",
    "        # write faces\n",
    "        f.write('# %d faces\\n' % len(faces))\n",
    "        for face in faces:\n",
    "            f.write('f %d %d %d\\n' % tuple(face))\n",
    "\n",
    "\n",
    "def voxel2obj(filename, pred, surface_view = True):\n",
    "    verts, faces = voxel2mesh(pred, surface_view)\n",
    "    write_obj(filename, verts, faces)\n",
    "    return  verts, faces\n"
   ]
  },
  {
   "cell_type": "code",
   "execution_count": 7,
   "metadata": {},
   "outputs": [],
   "source": [
    "bench = load_single_voxel_grid('./3D-RecGAN/02_1224.npz')"
   ]
  },
  {
   "cell_type": "code",
   "execution_count": 44,
   "metadata": {},
   "outputs": [],
   "source": [
    "    def plotFromVoxels(voxels,title=''):\n",
    "        if len(voxels.shape)>3:\n",
    "            x_d = voxels.shape[0]\n",
    "            y_d = voxels.shape[1]\n",
    "            z_d = voxels.shape[2]\n",
    "            v = voxels[:,:,:,0]\n",
    "            v = np.reshape(v,(x_d,y_d,z_d))\n",
    "        else:\n",
    "            v = voxels\n",
    "        x, y, z = v.nonzero()\n",
    "        fig = plt.figure()\n",
    "        ax = fig.add_subplot(111, projection='3d')\n",
    "        ax.scatter(x, y, z, zdir='z', c='red')\n",
    "        #plt.show()\n",
    "        plt.title(title)\n",
    "        from matplotlib.pyplot import show\n",
    "        show(block=False)\n"
   ]
  },
  {
   "cell_type": "code",
   "execution_count": 9,
   "metadata": {},
   "outputs": [
    {
     "data": {
      "image/png": "[encoded data removed]",
      "text/plain": [
       "<Figure size 432x288 with 1 Axes>"
      ]
     },
     "metadata": {},
     "output_type": "display_data"
    }
   ],
   "source": [
    "plotFromVoxels(couch)"
   ]
  },
  {
   "cell_type": "code",
   "execution_count": 45,
   "metadata": {},
   "outputs": [],
   "source": [
    "result_path = ('/home/josh/git_folder/3D_insight/3D-RecGAN/demo_result.mat')\n",
    "output = scipy.io.loadmat(result_path)\n"
   ]
  },
  {
   "cell_type": "code",
   "execution_count": 48,
   "metadata": {},
   "outputs": [],
   "source": [
    "x_sample = output['X_test']\n",
    "y_pred = output['Y_test_pred']\n",
    "y_true = output['Y_test_true']"
   ]
  },
  {
   "cell_type": "code",
   "execution_count": 49,
   "metadata": {},
   "outputs": [],
   "source": [
    "y_true = y_true.reshape(256,256,256)"
   ]
  },
  {
   "cell_type": "code",
   "execution_count": 51,
   "metadata": {},
   "outputs": [],
   "source": [
    "output = voxel2obj('voxpred_bench2.obj', y_pred)"
   ]
  },
  {
   "cell_type": "code",
   "execution_count": null,
   "metadata": {},
   "outputs": [],
   "source": []
  }
 ],
 "metadata": {
  "kernelspec": {
   "display_name": "Python (3dgan)",
   "language": "python",
   "name": "3dgan"
  },
  "language_info": {
   "codemirror_mode": {
    "name": "ipython",
    "version": 2
   },
   "file_extension": ".py",
   "mimetype": "text/x-python",
   "name": "python",
   "nbconvert_exporter": "python",
   "pygments_lexer": "ipython2",
   "version": "2.7.6"
  }
 },
 "nbformat": 4,
 "nbformat_minor": 2
}
